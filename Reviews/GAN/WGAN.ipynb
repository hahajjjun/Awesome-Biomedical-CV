{
 "cells": [
  {
   "cell_type": "markdown",
   "id": "88d9afcf",
   "metadata": {},
   "source": [
    "f-gan은 두 분포 사이의 ratio를 가지고 distance를 계산하지만, 전혀 다른 domain의 경우에는 전혀 distance에 대한 hint가 되지 못한다. WGAN은 다른 domain에 대해서도 distance 계산할 수 있는 hint를 제공할 수 있도록 하는 것이다."
   ]
  },
  {
   "cell_type": "code",
   "execution_count": null,
   "id": "db45c4c6",
   "metadata": {},
   "outputs": [],
   "source": []
  }
 ],
 "metadata": {
  "kernelspec": {
   "display_name": "Python 3 (ipykernel)",
   "language": "python",
   "name": "python3"
  },
  "language_info": {
   "codemirror_mode": {
    "name": "ipython",
    "version": 3
   },
   "file_extension": ".py",
   "mimetype": "text/x-python",
   "name": "python",
   "nbconvert_exporter": "python",
   "pygments_lexer": "ipython3",
   "version": "3.8.12"
  }
 },
 "nbformat": 4,
 "nbformat_minor": 5
}
