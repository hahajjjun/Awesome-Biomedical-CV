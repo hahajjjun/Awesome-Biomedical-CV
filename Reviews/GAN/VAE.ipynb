{
 "cells": [
  {
   "cell_type": "markdown",
   "id": "880bda08",
   "metadata": {},
   "source": [
    "## Auto-Encoding Variational Bayes\n",
    "**Diederik P.Kingma et al., 2014.**"
   ]
  },
  {
   "attachments": {},
   "cell_type": "markdown",
   "id": "b38cf5ab",
   "metadata": {},
   "source": [
    "### Why manifold learning?\n",
    "- Generative model을 학습한다는 것 = Plausible output을 잘 내는것?\n",
    "- Generative model은 $p(x)$ 자체를 학습\n",
    "- Arbitrary gaussian noise에서 plausible output을 낼 확률은 극히 드물다.\n",
    "- 이를테면 Image의 200X200 pixel 조합 중에서 plausible output은 일부에 불과한데, 이러한 조합들을 포괄하는 manifold가 존재한다는 manifold hypothesis <br/>\n",
    "<img src = \"data:image/png;base64,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\"></img> <br/>\n",
    "- VAE는 manifold를 학습한 이후, 학습한 latent space에서의 sampling을 통해서 plausible output을 생성하는 것이 목표이다."
   ]
  },
  {
   "cell_type": "markdown",
   "id": "c014d767",
   "metadata": {},
   "source": [
    "### Previous Challenges\n",
    "- Posterior distributions of continuouslatent variables & parameters are intractable.\n",
    "    - $p_\\theta(x), p_\\theta{(z|x)}$ 모두 intractable\n",
    "- Efficient approximate posterior inference in directed probabilistic model is required.\n",
    "\n",
    "### Contributions\n",
    "- Derive a differentiable, unbiased estimator : lower bound estimator(ELBO) that can be used in optimizing stochastic gradient methods.\n",
    "- Efficient posterior inference by fitting an approximate inference model, especially powerful in large datasets.\n",
    "-  ```Core of VAE``` : Variational inference를 활용해 distribution의 학습 문제를 paramter optimization으로 바꾸고, posterior $q(z|x)$와 likelihood $p(x|z)$를 encoder와 decoder로 바꾸어 Neural Network를 모델링한 다음 Gradient Descent를 활용해 update하자.\n",
    "\n",
    "### Problem Statement\n",
    "- Efficient approximate ML or MAP estimation, for the parameters $\\theta$.\n",
    "- Efficient approximate posterior inference of the latent variable $z$ when observed value $x$ is given for a choice of parameters $\\theta$.\n",
    "- Efficient approximate marginal inference of the variable $x$(이것을 아는 것이 사실 최종 목표)."
   ]
  },
  {
   "attachments": {},
   "cell_type": "markdown",
   "id": "1bc7ccf2",
   "metadata": {},
   "source": [
    "### Method\n",
    "#### 01. Problem scenario\n",
    "- samples $X$ consisting N i.i.d continuous or discreate variable $x$\n",
    "- $X$ is sampled from unobserved continous random variable $z$\n",
    "    - assume prior distribution of $z$ as $p_\\theta^*(z)$, value $x^{(i)}$ generated from conditional distribution $p_\\theta^*(x|z)$\n",
    "    - true parameter $\\theta^*$ and latent variables $z^{(i)}$ are hidden\n",
    "    - we only know the output $x$ when paramter $\\theta$ is chosen for generation.\n",
    "- introduce recognition model $q_\\phi{(z|x)}$ for approximation of true intractable posterior $p_\\theta(z|x)$.\n",
    "> Remark: Is this idea novel one? Mean-field variational inference\n",
    "> - Variational Bayesian 관점에서 Mean-field approximation이 이미 제시된 바 있음\n",
    "> - Approximate $p(\\theta|x)$ with $g(\\theta|\\phi)$\n",
    "> - Assume $g(\\theta|\\phi)$ is separable : $g(\\theta|\\phi) = \\prod_{j=1}^{J} g_j(\\theta_j|\\phi_j)$, and $\\phi^* = arg \\min_\\phi KL(g(\\theta|\\phi)||p(\\theta|x))$\n",
    "> - Not all distributions are seperable in parameters.\n",
    "\n",
    "- inspiration of VAE architecture <br/>\n",
    "    <img src = \"https://user-images.githubusercontent.com/75057952/158972925-e275505a-602e-4383-afc0-22204b0ee1c0.png\" width = \"600dp\"></img>"
   ]
  },
  {
   "attachments": {},
   "cell_type": "markdown",
   "id": "31de3ea9",
   "metadata": {},
   "source": [
    "#### 02. Variational bound derivation\n",
    "- $\\log p_\\theta(X) = \\log p_\\theta(x^{(1)}, ..., x^{(N)}) = \\sum_{i=1}^N \\log p_\\theta(x^{(i)})$\n",
    "\n",
    "**Proof 1 : Based on paper** <br/>\n",
    "- $\\log p(x) = \\log p(x) \\int q(z|x)dz = \\int q(z|x) \\log p(x) dz$\n",
    "- **By bayes theorem**, $\\int q(z|x) \\log p(x) dz = \\int q(z|x) \\log{p(x|z)p(z) \\over p(z|x)}dz \\\\ = \\int q(z|x) {[\\log p(x|z) + \\log p(z) - \\log p(z|x)]} dz \\\\ =  \\int q(z|x) \\log p(x|z) + \\int q(z|x) \\log p(z) dz - \\int q(z|x) \\log p(z|x_i) dz \\pm \\int q(z|x) \\log q(z|x) dz \\\\ = \\mathbb{E}_{q(z|x)}[\\log p(x|z)] + {[\\int q(z|x) \\log p(z) dz - \\int q(z|x) \\log q(z|x) dz]} + {[\\int q(z|x) \\log q(z|x) dz-\\int q(z|x) \\log p(z|x) dz]} \\\\ = \\mathbb{E}_{q(z|x)}[\\log p(x|z)] + KL(q(z|x)||p(z|x)) \\text{ (intractable) } - KL(q(x|z)||p(z) \\text{ (tractable if we suppose gaussian dist.) } \\\\ \\geq \\mathbb{E}_{q(z|x)}[\\log p(x|z)] - KL(q(x|z)||p(z)) = \\mathcal L\\text{ (i.e. ELBO)}$\n",
    "\n",
    "**Proof 2 : Shortcut with jensen inequality** <br/>\n",
    "- $\\log p(x) = \\log(\\int{{p(x,z) \\over q_\\phi(z|x)}q_\\phi(z|x)dz) = \\log (\\mathbb E_{q_\\phi(z|x)}[{p(x,z) \\over q_\\phi(z|x)}])\\geq \\mathbb E_{q_\\phi(z|x)}{[\\log {p(x,z) \\over q_\\phi(z|x)}]}}: \\text{by Jensen Inequality}$\n",
    "- $\\mathbb E_{q_\\phi(z|x)}{[\\log {p(x,z) \\over q_\\phi(z|x)}]}  = \\mathbb E_{q_\\phi(z|x)}{[\\log {p(x|z)p(z) \\over q_\\phi(z|x)}]}\\\\  = E_{q_\\phi(z|x)}{[\\log {p(x|z)}]} - E_{q_\\phi(z|x)}{[{q_\\phi(z|x) \\over p(z)}]} \\\\ = E_{q_\\phi(z|x)}{[\\log {p(x|z)}]} - \\int {q_\\phi(z|x) \\over p(z)}q_\\phi(z|x) dz \\\\ = E_{q_\\phi(z|x)}{[\\log {p(x|z)}]} - KL(q_\\phi(z|x)||p(z)) = \\mathcal L\\text{ (i.e. ELBO)}$\n",
    "\n",
    "**Thus,**\n",
    "<img src = \"https://user-images.githubusercontent.com/75057952/158972941-2451f4a4-d182-4782-baa9-2e02e59e5f65.png\" width = \"600dp\"></img>\n",
    "- Expectation value의 gradient 자체를 Monte Carlo estimation으로 추정하여 update에 활용할 때는 sampled gradient value의 variance가 매우 높다는 문제가 있음.\n",
    "- Expectation value를 reparametrizing trick을 통해 변환하고, Monte Carlo expectation value 자체를 estimate하여 neural network에서의 gradient descent를 통해 paramter update가 가능함."
   ]
  },
  {
   "attachments": {},
   "cell_type": "markdown",
   "id": "06963840",
   "metadata": {},
   "source": [
    "### 03. SGVB estimator,  AEVB algorithm and reparamterization trick\n",
    "\n",
    "- 위의 식에서 ELBO Term을 구했고, ELBO를 object function으로 두고 parmeter update가 필요함. 이때 Gradient을 어떻게 계산할까?\n",
    "- 우선 Stochastic Sampling을 통하게 되는 순간 expectation value가 q에 dependent하던 조건이 사라지는 문제가 발생함.\n",
    "- 그리고 Expectation value의 gradient 자체를 Monte Carlo estimation으로 추정하여 update에 활용할 때는 sampled gradient value의 variance가 매우 높다는 문제가 있음.\n",
    "- Expectation value를 reparametrizing trick을 통해 변환하면 z가 아닌 $\\epsilon$에 stochasticy가 더해지고, z는 q로부터 직접 sampling됨.\n",
    "- 그리고 Monte Carlo expectation value 자체를 estimate하여 neural network에서의 gradient descent를 통해 paramter update가 가능 :  ```contribution of SGVB estimator```\n",
    "- random variable $z$를 $x$와 error(auxiliary) noise variable $\\epsilon$에 의존적인 term으로 가정(여기서는 *Gaussian Dist.*) <br/>\n",
    "<img src = \"https://user-images.githubusercontent.com/75057952/158972850-9d8dd10b-3cd4-4ed6-9c4d-c66c241d9466.png\" width = \"700dp\"></img>\n",
    "\n",
    "- AEVB algorithm <br/>\n",
    "<img src = \"https://user-images.githubusercontent.com/75057952/158973022-4d3e95b0-ad7a-4bb6-b279-640fd8eb7137.png\" width = \"500dp\"></img>"
   ]
  },
  {
   "attachments": {},
   "cell_type": "markdown",
   "id": "15fad1be",
   "metadata": {},
   "source": [
    "### 04. Example : Univariate gaussian-distribution case\n",
    "### Remark : $q(z|x) \\text{ as encoder }, p(x|z) \\text{ as decoder} $\n",
    "**Encoder**\n",
    "- suppose $z ∼ p(z|x) = N (\\mu, \\sigma^2)$ : Gaussian Encoder\n",
    "- valid reparameterization : $z = \\mu + \\sigma\\epsilon$, where $\\epsilon$ is an auxiliary noise variable $\\epsilon ∼ N (0, 1)$. \n",
    "- Therefore, $\\mathbb E_{N(z;\\mu,\\sigma^2)} [f(z)] = \\mathbb E_{N(\\epsilon;0,1)}[f(\\mu + \\sigma\\epsilon)] \\sim {1 \\over L} \\sum_{i=1}^L f(\\mu + \\sigma\\epsilon^{(l)}) \\text{ where } \\epsilon^{(l)} \\sim N(0,1)$\n",
    "- ELBO is calculated as... (KL term can be explicitly calculated if gaussian, thus we can apply estimator B !!!)\n",
    "<img src = \"https://user-images.githubusercontent.com/75057952/158973037-53fc9efc-fb6d-4c6f-8064-bb617a3d8248.png\" width = \"380dp\"></img>\n",
    "<img src = \"https://user-images.githubusercontent.com/75057952/158973047-a1e92cfb-3eb9-4dfd-8428-778977770e30.png\" width = \"500dp\"></img>\n",
    "\n",
    "**Decoder** : Bernoulli MLP and Gaussian MLP\n",
    "- 인코더의 역할이 latent space로의 임베딩을 '잘' 만드는 것이라면, 디코더의 역할은 latent space에서 sampling된 z로부터 생성된 output이 실제 p(x)를 반영하여 잘 만들어지기를 목표로 함."
   ]
  }
 ],
 "metadata": {
  "kernelspec": {
   "display_name": "Python 3 (ipykernel)",
   "language": "python",
   "name": "python3"
  },
  "language_info": {
   "codemirror_mode": {
    "name": "ipython",
    "version": 3
   },
   "file_extension": ".py",
   "mimetype": "text/x-python",
   "name": "python",
   "nbconvert_exporter": "python",
   "pygments_lexer": "ipython3",
   "version": "3.8.12"
  }
 },
 "nbformat": 4,
 "nbformat_minor": 5
}
